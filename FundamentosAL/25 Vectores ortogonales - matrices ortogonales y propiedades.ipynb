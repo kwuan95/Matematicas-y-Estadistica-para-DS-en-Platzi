{
 "cells": [
  {
   "cell_type": "code",
   "execution_count": 1,
   "metadata": {},
   "outputs": [],
   "source": [
    "%matplotlib inline\n",
    "import numpy as np\n",
    "import matplotlib.pyplot as plt\n",
    "import seaborn as sns\n",
    "%run \"./graficarVectores.ipynb\""
   ]
  },
  {
   "attachments": {},
   "cell_type": "markdown",
   "metadata": {},
   "source": [
    "## Orogonales\n",
    "Un vector no puede ser ortogonal en solitario para serlo debe hacer referencia a otro vector, por lo tanto cuando hablemos de este tipo de vector nos estaremos refiriendo a dos mas vectores.\n",
    "\n",
    "Ser ortogonal es que el angulo que formen estos vectores sea de 90 grados."
   ]
  },
  {
   "cell_type": "code",
   "execution_count": 3,
   "metadata": {},
   "outputs": [
    {
     "data": {
      "text/plain": [
       "(-3.0, 3.0)"
      ]
     },
     "execution_count": 3,
     "metadata": {},
     "output_type": "execute_result"
    },
    {
     "data": {
      "image/png": "[encoded data removed]",
      "text/plain": [
       "<Figure size 640x480 with 1 Axes>"
      ]
     },
     "metadata": {},
     "output_type": "display_data"
    }
   ],
   "source": [
    "x = np.array([0,0,2,2])\n",
    "y = np.array([0,0,2,-2])\n",
    "\n",
    "plt.quiver([x[0], y[0]],\n",
    "           [x[1], y[1]],\n",
    "           [x[2], y[2]],\n",
    "           [x[3], y[3]],\n",
    "           angles ='xy', scale_units='xy', scale=1)\n",
    "\n",
    "plt.xlim(-2,3)\n",
    "plt.ylim(-3,3)"
   ]
  },
  {
   "cell_type": "code",
   "execution_count": 7,
   "metadata": {},
   "outputs": [
    {
     "name": "stdout",
     "output_type": "stream",
     "text": [
      "[2 2]\n",
      "[ 2 -2]\n",
      "0\n"
     ]
    }
   ],
   "source": [
    "v1 = np.array([2,2])\n",
    "v2 = np.array([2,-2])\n",
    "print(v1)\n",
    "print(v2)\n",
    "print(v1.dot(v2)) # Si nos muestra 0 es porque tienen 90 grados.\n"
   ]
  },
  {
   "cell_type": "code",
   "execution_count": 8,
   "metadata": {},
   "outputs": [
    {
     "name": "stdout",
     "output_type": "stream",
     "text": [
      "2.8284271247461903\n",
      "2.8284271247461903\n"
     ]
    }
   ],
   "source": [
    "print(np.linalg.norm(v1)) # 2.82\n",
    "print(np.linalg.norm(v2)) # 2.82\n",
    "\n",
    "# Ya que no nos da 1 su normal concluimos que no son ortonormales.\n",
    "# Pero para lograr que un vector sea ortonormal lo unico que debo realizar\n",
    "# Es dividir cada uno de sus elementos por su normal."
   ]
  },
  {
   "cell_type": "code",
   "execution_count": 9,
   "metadata": {},
   "outputs": [
    {
     "name": "stdout",
     "output_type": "stream",
     "text": [
      "0.9999999999999999\n"
     ]
    }
   ],
   "source": [
    "vector_ortonormal = v1 * (1/np.linalg.norm(v1))\n",
    "print(np.linalg.norm(vector_ortonormal))"
   ]
  }
 ],
 "metadata": {
  "kernelspec": {
   "display_name": "Fundamento_Al",
   "language": "python",
   "name": "python3"
  },
  "language_info": {
   "codemirror_mode": {
    "name": "ipython",
    "version": 3
   },
   "file_extension": ".py",
   "mimetype": "text/x-python",
   "name": "python",
   "nbconvert_exporter": "python",
   "pygments_lexer": "ipython3",
   "version": "3.11.0"
  },
  "orig_nbformat": 4
 },
 "nbformat": 4,
 "nbformat_minor": 2
}
