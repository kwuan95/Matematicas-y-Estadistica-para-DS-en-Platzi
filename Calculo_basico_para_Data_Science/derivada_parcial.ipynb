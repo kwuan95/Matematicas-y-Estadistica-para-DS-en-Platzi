{
 "cells": [
  {
   "cell_type": "code",
   "execution_count": 1,
   "metadata": {},
   "outputs": [
    {
     "ename": "TypeError",
     "evalue": "not all arguments converted during string formatting",
     "output_type": "error",
     "traceback": [
      "\u001b[0;31m---------------------------------------------------------------------------\u001b[0m",
      "\u001b[0;31mTypeError\u001b[0m                                 Traceback (most recent call last)",
      "Cell \u001b[0;32mIn[1], line 15\u001b[0m\n\u001b[1;32m     13\u001b[0m variables \u001b[39m=\u001b[39m [\u001b[39m'\u001b[39m\u001b[39mx\u001b[39m\u001b[39m'\u001b[39m, \u001b[39m'\u001b[39m\u001b[39my\u001b[39m\u001b[39m'\u001b[39m, \u001b[39m'\u001b[39m\u001b[39mz\u001b[39m\u001b[39m'\u001b[39m]\n\u001b[1;32m     14\u001b[0m expr \u001b[39m=\u001b[39m \u001b[39minput\u001b[39m(\u001b[39m\"\u001b[39m\u001b[39m\\n\u001b[39;00m\u001b[39mFuncion a evaluar:    f(x,y,z)=\u001b[39m\u001b[39m\"\u001b[39m)\n\u001b[0;32m---> 15\u001b[0m derivada(expr, variables)\n",
      "Cell \u001b[0;32mIn[1], line 8\u001b[0m, in \u001b[0;36mderivada\u001b[0;34m(expr, variables)\u001b[0m\n\u001b[1;32m      6\u001b[0m \u001b[39mfor\u001b[39;00m der_respect \u001b[39min\u001b[39;00m variables:\n\u001b[1;32m      7\u001b[0m     var \u001b[39m=\u001b[39m sp\u001b[39m.\u001b[39mSymbol(\u001b[39mf\u001b[39m\u001b[39m'\u001b[39m\u001b[39m{\u001b[39;00mder_respect\u001b[39m}\u001b[39;00m\u001b[39m'\u001b[39m)\n\u001b[0;32m----> 8\u001b[0m     funcion \u001b[39m=\u001b[39m sp\u001b[39m.\u001b[39;49mDerivative(expr, var, evaluate\u001b[39m=\u001b[39;49m\u001b[39mTrue\u001b[39;49;00m)\n\u001b[1;32m      9\u001b[0m     \u001b[39mprint\u001b[39m(\u001b[39mf\u001b[39m\u001b[39m'\u001b[39m\u001b[39mLa derivada parcial df/d\u001b[39m\u001b[39m{\u001b[39;00mder_respect\u001b[39m}\u001b[39;00m\u001b[39m =  \u001b[39m\u001b[39m{\u001b[39;00mfuncion\u001b[39m}\u001b[39;00m\u001b[39m'\u001b[39m)\n",
      "File \u001b[0;32m~/anaconda3/envs/ML/lib/python3.11/site-packages/sympy/core/function.py:1238\u001b[0m, in \u001b[0;36mDerivative.__new__\u001b[0;34m(cls, expr, *variables, **kwargs)\u001b[0m\n\u001b[1;32m   1235\u001b[0m has_symbol_set \u001b[39m=\u001b[39m \u001b[39misinstance\u001b[39m(symbols_or_none, \u001b[39mset\u001b[39m)\n\u001b[1;32m   1237\u001b[0m \u001b[39mif\u001b[39;00m \u001b[39mnot\u001b[39;00m has_symbol_set:\n\u001b[0;32m-> 1238\u001b[0m     \u001b[39mraise\u001b[39;00m \u001b[39mValueError\u001b[39;00m(filldedent(\u001b[39m'''\u001b[39;49m\n\u001b[1;32m   1239\u001b[0m \u001b[39m        Since there are no variables in the expression \u001b[39;49m\u001b[39m%s\u001b[39;49;00m\u001b[39m,\u001b[39;49m\n\u001b[1;32m   1240\u001b[0m \u001b[39m        it cannot be differentiated.\u001b[39;49m\u001b[39m'''\u001b[39;49m \u001b[39m%\u001b[39;49m expr))\n\u001b[1;32m   1242\u001b[0m \u001b[39m# determine value for variables if it wasn't given\u001b[39;00m\n\u001b[1;32m   1243\u001b[0m \u001b[39mif\u001b[39;00m \u001b[39mnot\u001b[39;00m variables:\n",
      "\u001b[0;31mTypeError\u001b[0m: not all arguments converted during string formatting"
     ]
    }
   ],
   "source": [
    "from math import *\n",
    "import sympy as sp\n",
    "\n",
    "\n",
    "def derivada(expr, variables):\n",
    "    for der_respect in variables:\n",
    "        var = sp.Symbol(f'{der_respect}')\n",
    "        funcion = sp.Derivative(expr, var, evaluate=True)\n",
    "        print(f'La derivada parcial df/d{der_respect} =  {funcion}')\n",
    "\n",
    "\n",
    "if __name__ == '__main__':\n",
    "    variables = ['x', 'y', 'z']\n",
    "    expr = input(\"\\nFuncion a evaluar:    f(x,y,z)=\")\n",
    "    derivada(expr, variables)import sympy as sp\n",
    "\n"
   ]
  }
 ],
 "metadata": {
  "kernelspec": {
   "display_name": "ML",
   "language": "python",
   "name": "python3"
  },
  "language_info": {
   "codemirror_mode": {
    "name": "ipython",
    "version": 3
   },
   "file_extension": ".py",
   "mimetype": "text/x-python",
   "name": "python",
   "nbconvert_exporter": "python",
   "pygments_lexer": "ipython3",
   "version": "3.11.4"
  },
  "orig_nbformat": 4
 },
 "nbformat": 4,
 "nbformat_minor": 2
}
